{
 "cells": [
  {
   "cell_type": "code",
   "execution_count": 1,
   "id": "f7b00470-aa94-49cb-b11b-01ea27567354",
   "metadata": {},
   "outputs": [],
   "source": [
    "import random\n",
    "import os\n",
    "import cv2\n",
    "import imageio"
   ]
  },
  {
   "cell_type": "code",
   "execution_count": 2,
   "id": "a9c9fd0c-7df4-4b7c-9e0a-396745ff1734",
   "metadata": {},
   "outputs": [],
   "source": [
    "img = cv2.imread('images/2.jpg')\n",
    "\n",
    "row, col, _ = img.shape"
   ]
  },
  {
   "cell_type": "code",
   "execution_count": 4,
   "id": "16089eca-112c-422d-b8f4-520daabdea8c",
   "metadata": {},
   "outputs": [],
   "source": [
    "SNOWS_LIST = []\n",
    "\n",
    "for i in range(700):\n",
    "    x = random.randint(-500, row)\n",
    "    y = random.randint(0, col)\n",
    "    radius = random.randint(2, 3)\n",
    "    move_right_left = random.randint(-1, 1)\n",
    "    move_down = random.randint(4, 5)\n",
    "\n",
    "    snow = [x, y, radius, move_right_left, move_down]\n",
    "\n",
    "    SNOWS_LIST.append(snow)\n",
    "\n",
    "counter = 100\n",
    "\n",
    "for j in range(30):\n",
    "    img = cv2.imread('images/2.jpg')\n",
    "\n",
    "    for snows in(SNOWS_LIST):\n",
    "        cv2.circle(img, (snows[1], snows[0]), snows[2], (255, 255, 255), -1)\n",
    "\n",
    "        snows[0] += snows[4]\n",
    "        snows[1] += snows[3]\n",
    "\n",
    "    cv2.imwrite(f'output/snow/{counter}.jpg', img)\n",
    "    counter += 1"
   ]
  },
  {
   "cell_type": "code",
   "execution_count": 5,
   "id": "a7c9cf2a-cd55-43dc-ae52-6ae7515871f7",
   "metadata": {},
   "outputs": [],
   "source": [
    "files = os.listdir('output/snow')\n",
    "images=[]\n",
    "\n",
    "for i in range (len(files)):\n",
    "    image=imageio.imread('output/snow/'+files[i])\n",
    "    images.append(image)\n",
    "\n",
    "imageio.mimsave('snow.gif',images) "
   ]
  },
  {
   "cell_type": "code",
   "execution_count": null,
   "id": "9e1b867a-c294-48b0-8241-f1a73f891314",
   "metadata": {},
   "outputs": [],
   "source": []
  }
 ],
 "metadata": {
  "kernelspec": {
   "display_name": "Python 3 (ipykernel)",
   "language": "python",
   "name": "python3"
  },
  "language_info": {
   "codemirror_mode": {
    "name": "ipython",
    "version": 3
   },
   "file_extension": ".py",
   "mimetype": "text/x-python",
   "name": "python",
   "nbconvert_exporter": "python",
   "pygments_lexer": "ipython3",
   "version": "3.8.9"
  }
 },
 "nbformat": 4,
 "nbformat_minor": 5
}
