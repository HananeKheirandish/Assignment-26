{
 "cells": [
  {
   "cell_type": "code",
   "execution_count": 2,
   "id": "fdb502b4-9c69-43ac-b6b4-ec14d3c2b82e",
   "metadata": {},
   "outputs": [],
   "source": [
    "import cv2"
   ]
  },
  {
   "cell_type": "code",
   "execution_count": 3,
   "id": "c62cb3eb-57c1-4a43-bc16-f4fbbef01bdb",
   "metadata": {},
   "outputs": [],
   "source": [
    "img = cv2.imread('images/mnist.png')\n",
    "img = cv2.resize(img, (0, 0), fx=0.5, fy=0.5)\n",
    "img = cv2.cvtColor(img, cv2.COLOR_BGR2GRAY)\n",
    "\n",
    "rows, cols = img.shape"
   ]
  },
  {
   "cell_type": "code",
   "execution_count": 4,
   "id": "2fa685cb-1631-4858-9e17-e198043fa114",
   "metadata": {},
   "outputs": [],
   "source": [
    "numbers_rows = rows // 50\n",
    "numbers_cols = cols // 100\n",
    "\n",
    "folder = 0\n",
    "nums = 0\n",
    "\n",
    "for i in range(0, rows, numbers_rows):\n",
    "    for j in range(0, cols, numbers_cols):\n",
    "        img_numbres = img[i:i+numbers_rows, j:j+numbers_cols]\n",
    "        if img_numbres.shape == (numbers_rows, numbers_cols):\n",
    "            nums += 1\n",
    "            cv2.imwrite(f'output/numbers/{folder}/{nums}.jpg', img_numbres)\n",
    "            if nums % 500 == 0:\n",
    "                nums = 0\n",
    "                folder += 1"
   ]
  },
  {
   "cell_type": "code",
   "execution_count": null,
   "id": "603fa3fa-9eb1-4875-a60a-0e8f200e7982",
   "metadata": {},
   "outputs": [],
   "source": []
  }
 ],
 "metadata": {
  "kernelspec": {
   "display_name": "Python 3 (ipykernel)",
   "language": "python",
   "name": "python3"
  },
  "language_info": {
   "codemirror_mode": {
    "name": "ipython",
    "version": 3
   },
   "file_extension": ".py",
   "mimetype": "text/x-python",
   "name": "python",
   "nbconvert_exporter": "python",
   "pygments_lexer": "ipython3",
   "version": "3.8.9"
  }
 },
 "nbformat": 4,
 "nbformat_minor": 5
}
