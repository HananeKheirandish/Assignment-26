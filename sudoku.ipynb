{
 "cells": [
  {
   "cell_type": "code",
   "execution_count": 1,
   "id": "0f4c0c96-f241-4a4b-9eb5-0aa75ea35eeb",
   "metadata": {},
   "outputs": [],
   "source": [
    "import cv2\n",
    "import numpy as np\n",
    "import matplotlib.pyplot as plt"
   ]
  },
  {
   "cell_type": "code",
   "execution_count": 2,
   "id": "6a994b74-fecc-41f3-8c79-52791f46c8b8",
   "metadata": {},
   "outputs": [],
   "source": [
    "img = cv2.imread('images/sudoku.tif')\n",
    "img = cv2.resize(img,(0,0),fx=0.4,fy=0.4)\n",
    "img = cv2.cvtColor(img, cv2.COLOR_BGR2GRAY)\n",
    "img = cv2.equalizeHist(img)\n",
    "\n",
    "rows, cols = img.shape"
   ]
  },
  {
   "cell_type": "code",
   "execution_count": 3,
   "id": "5bde0ba0-4721-4351-8b2a-e19fbf5e2fff",
   "metadata": {},
   "outputs": [],
   "source": [
    "def search_for_top_left_pixel():\n",
    "    for i in range(rows):\n",
    "        for j in range(cols):\n",
    "            if img[i, j] != 255:\n",
    "                return i, j"
   ]
  },
  {
   "cell_type": "code",
   "execution_count": 4,
   "id": "63564497-c514-4930-bce5-eb1c61e89fc7",
   "metadata": {},
   "outputs": [],
   "source": [
    "def search_for_bottom_right_pixel():\n",
    "    for i in range(rows-1, 0, -1):\n",
    "        for j in range(cols-1, 0, -1):\n",
    "            if img[i, j] != 255:\n",
    "                return i, j  "
   ]
  },
  {
   "cell_type": "code",
   "execution_count": 5,
   "id": "c9411612-7595-4bba-8027-8bbc68d7c000",
   "metadata": {},
   "outputs": [],
   "source": [
    "x1, y1= search_for_top_left_pixel()\n",
    "x2, y2= search_for_bottom_right_pixel()\n",
    "\n",
    "img_sudoku = img[x1:x2, y1:y2]\n",
    "\n",
    "width, height = img_sudoku.shape"
   ]
  },
  {
   "cell_type": "code",
   "execution_count": 6,
   "id": "05b9b4bc-ddf1-4311-9201-8fa02f52ab1a",
   "metadata": {},
   "outputs": [],
   "source": [
    "cell_width = width // 9\n",
    "cell_height = height // 9\n",
    "\n",
    "def count_none_white_pixels(img):\n",
    "    rows, cols = img.shape\n",
    "    dah_darsad_rows = rows // 10\n",
    "    dah_darsad_cols = cols // 10\n",
    "    counter = 0\n",
    "    for i in range(dah_darsad_rows, rows-dah_darsad_rows):\n",
    "        for j in range(dah_darsad_cols, cols-dah_darsad_cols):\n",
    "            if img[i, j] != 255:\n",
    "                counter += 1\n",
    "    \n",
    "    return counter"
   ]
  },
  {
   "cell_type": "code",
   "execution_count": 7,
   "id": "5fc92c99-528f-40fe-b218-3c159a7d984b",
   "metadata": {},
   "outputs": [],
   "source": [
    "counter = 0\n",
    "\n",
    "a = (cell_width * cell_height) / 35\n",
    "\n",
    "for i in range(0, width, cell_width):\n",
    "    for j in range(0, height, cell_height):\n",
    "        small_img = img_sudoku[i:i+cell_width, j:j+cell_height]\n",
    "        if small_img.shape == (cell_width, cell_height):\n",
    "            if count_none_white_pixels(small_img) > a:\n",
    "                cv2.imwrite(f'cells/{counter}.jpg', small_img)\n",
    "                counter += 1"
   ]
  },
  {
   "cell_type": "code",
   "execution_count": 8,
   "id": "a5c93afb-81fb-44de-bc32-03aa98354900",
   "metadata": {},
   "outputs": [
    {
     "data": {
      "text/plain": [
       "-1"
      ]
     },
     "execution_count": 8,
     "metadata": {},
     "output_type": "execute_result"
    },
    {
     "data": {
      "image/png": "[encoded data removed]",
      "text/plain": [
       "<Figure size 432x288 with 1 Axes>"
      ]
     },
     "metadata": {
      "needs_background": "light"
     },
     "output_type": "display_data"
    }
   ],
   "source": [
    "plt.imshow(img_sudoku, cmap='gray')\n",
    "cv2.waitKey()"
   ]
  },
  {
   "cell_type": "code",
   "execution_count": null,
   "id": "67752e9b-01e4-4186-86d9-d57d2e975f1b",
   "metadata": {},
   "outputs": [],
   "source": []
  }
 ],
 "metadata": {
  "kernelspec": {
   "display_name": "Python 3 (ipykernel)",
   "language": "python",
   "name": "python3"
  },
  "language_info": {
   "codemirror_mode": {
    "name": "ipython",
    "version": 3
   },
   "file_extension": ".py",
   "mimetype": "text/x-python",
   "name": "python",
   "nbconvert_exporter": "python",
   "pygments_lexer": "ipython3",
   "version": "3.8.9"
  }
 },
 "nbformat": 4,
 "nbformat_minor": 5
}
